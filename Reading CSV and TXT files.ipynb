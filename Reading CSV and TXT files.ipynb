{
 "cells": [
  {
   "cell_type": "code",
   "execution_count": 1,
   "id": "27503fde-db0b-4cd7-8623-57af5ec7da75",
   "metadata": {},
   "outputs": [],
   "source": [
    "import pandas as pd"
   ]
  },
  {
   "cell_type": "markdown",
   "id": "bfec9ac2-fa2a-4808-8df0-4112bf6d8fb9",
   "metadata": {},
   "source": [
    "Reading Data with Python "
   ]
  },
  {
   "cell_type": "markdown",
   "id": "992ee67d-3838-464d-9e7b-faba63beaaee",
   "metadata": {},
   "source": [
    "When you want to work with a file, the first thing to do is to open it. This is done by invoking the open() built-in function.\n",
    "\n",
    "open() has a single required argument that is the path to the file and has a single return, the file object.\n",
    "\n",
    "The with statement automatically takes care of closing the file once it leaves the with block, even in cases of error."
   ]
  },
  {
   "cell_type": "code",
   "execution_count": null,
   "id": "9ac71842-23a8-4e5a-a43d-3aaac8f5d4b1",
   "metadata": {},
   "outputs": [],
   "source": [
    "with open()('eth-price.csv',Downloads/eth-price.csvDownloads/eth-price.csv 'r') as fp:\n",
    "    print(fp)"
   ]
  },
  {
   "cell_type": "code",
   "execution_count": 5,
   "id": "fad9051f-4545-4f9b-a6d9-cdf4cccc0481",
   "metadata": {},
   "outputs": [
    {
     "name": "stdout",
     "output_type": "stream",
     "text": [
      "0 2017-04-02 00:00:00,1099.169125\n",
      "\n",
      "1 2017-04-03 00:00:00,1141.813\n",
      "\n",
      "2 2017-04-04 00:00:00,1141.6003625\n",
      "\n",
      "3 2017-04-05 00:00:00,1133.0793142857142\n",
      "\n",
      "4 2017-04-06 00:00:00,1196.3079375\n",
      "\n",
      "5 2017-04-07 00:00:00,1190.45425\n",
      "\n",
      "6 2017-04-08 00:00:00,1181.1498375\n",
      "\n",
      "7 2017-04-09 00:00:00,1208.8005\n",
      "\n",
      "8 2017-04-10 00:00:00,1207.744875\n",
      "\n",
      "9 2017-04-11 00:00:00,1226.6170375\n",
      "\n"
     ]
    }
   ],
   "source": [
    "with open('btc-market-price.csv', 'r') as fp:\n",
    "    for index, line in enumerate(fp. readlines()):\n",
    "    #read just the first 10 lines \n",
    "      if (index<10):\n",
    "          print(index, line)"
   ]
  },
  {
   "cell_type": "markdown",
   "id": "e7878da8-3c7d-4bcd-acbb-4ab714818b71",
   "metadata": {},
   "source": [
    "one the file is opened, we can read its content as follows:"
   ]
  },
  {
   "cell_type": "code",
   "execution_count": 10,
   "id": "ea9f85fd-4680-4abb-b71c-c87613b279f4",
   "metadata": {},
   "outputs": [
    {
     "name": "stdout",
     "output_type": "stream",
     "text": [
      "0 2017-04-02 00:00:00,1099.169125\n",
      "\n",
      "1 2017-04-03 00:00:00,1141.813\n",
      "\n",
      "2 2017-04-04 00:00:00,1141.6003625\n",
      "\n",
      "3 2017-04-05 00:00:00,1133.0793142857142\n",
      "\n",
      "4 2017-04-06 00:00:00,1196.3079375\n",
      "\n",
      "5 2017-04-07 00:00:00,1190.45425\n",
      "\n",
      "6 2017-04-08 00:00:00,1181.1498375\n",
      "\n",
      "7 2017-04-09 00:00:00,1208.8005\n",
      "\n",
      "8 2017-04-10 00:00:00,1207.744875\n",
      "\n",
      "9 2017-04-11 00:00:00,1226.6170375\n",
      "\n"
     ]
    }
   ],
   "source": [
    "filepath = 'btc-market-price.csv'\n",
    "\n",
    "with open(filepath, 'r') as reader:\n",
    "    for index, line in enumerate(reader.readlines()):\n",
    "        # read just the first 10 lines\n",
    "        if (index < 10):\n",
    "            print(index, line)"
   ]
  },
  {
   "cell_type": "code",
   "execution_count": 18,
   "id": "6e49bb38-43ce-408e-a136-93afa8eb6ff9",
   "metadata": {},
   "outputs": [],
   "source": [
    "import csv"
   ]
  },
  {
   "cell_type": "code",
   "execution_count": 19,
   "id": "8784285c-50e4-4437-a0eb-72d7668c8e3a",
   "metadata": {},
   "outputs": [
    {
     "name": "stdout",
     "output_type": "stream",
     "text": [
      "2017-04-02 00:00:00: $1099.169125\n",
      "2017-04-03 00:00:00: $1141.813\n",
      "2017-04-04 00:00:00: $1141.6003625\n",
      "2017-04-05 00:00:00: $1133.0793142857142\n",
      "2017-04-06 00:00:00: $1196.3079375\n",
      "2017-04-07 00:00:00: $1190.45425\n",
      "2017-04-08 00:00:00: $1181.1498375\n",
      "2017-04-09 00:00:00: $1208.8005\n",
      "2017-04-10 00:00:00: $1207.744875\n",
      "2017-04-11 00:00:00: $1226.6170375\n"
     ]
    }
   ],
   "source": [
    "with open('btc-market-price.csv', 'r') as fp:\n",
    "    reader = csv.reader(fp)\n",
    "    for index, (timestamp, price) in enumerate(reader):\n",
    "        # read just the first 10 lines\n",
    "        if (index < 10):\n",
    "            print(f\"{timestamp}: ${price}\")"
   ]
  }
 ],
 "metadata": {
  "kernelspec": {
   "display_name": "Python 3 (ipykernel)",
   "language": "python",
   "name": "python3"
  },
  "language_info": {
   "codemirror_mode": {
    "name": "ipython",
    "version": 3
   },
   "file_extension": ".py",
   "mimetype": "text/x-python",
   "name": "python",
   "nbconvert_exporter": "python",
   "pygments_lexer": "ipython3",
   "version": "3.12.0"
  }
 },
 "nbformat": 4,
 "nbformat_minor": 5
}
