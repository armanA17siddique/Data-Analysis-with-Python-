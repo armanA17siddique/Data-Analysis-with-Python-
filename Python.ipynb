{
 "cells": [
  {
   "cell_type": "markdown",
   "id": "e03dd6cb-f687-40f3-96c1-ac88adc0520f",
   "metadata": {},
   "source": [
    "Syntax Overview"
   ]
  },
  {
   "cell_type": "markdown",
   "id": "ebddaf54-c38c-4a11-8877-d6086d09cb60",
   "metadata": {},
   "source": [
    "In the java script we write like this"
   ]
  },
  {
   "cell_type": "code",
   "execution_count": 2,
   "id": "610032ff-0960-4f58-9713-eb7a945af7f3",
   "metadata": {
    "scrolled": true
   },
   "outputs": [
    {
     "ename": "SyntaxError",
     "evalue": "invalid syntax (3179339916.py, line 1)",
     "output_type": "error",
     "traceback": [
      "  \u001b[36mCell\u001b[39m\u001b[36m \u001b[39m\u001b[32mIn[2]\u001b[39m\u001b[32m, line 1\u001b[39m\n\u001b[31m    \u001b[39m\u001b[31mfunction add_numbers(x,y){\u001b[39m\n             ^\n\u001b[31mSyntaxError\u001b[39m\u001b[31m:\u001b[39m invalid syntax\n"
     ]
    }
   ],
   "source": [
    "function add_numbers(x,y){\n",
    "         return x+y\n",
    "}b"
   ]
  },
  {
   "cell_type": "markdown",
   "id": "697ddf23-d3ac-4a43-95f4-483b974e0b4e",
   "metadata": {},
   "source": [
    "in python we had write in this way"
   ]
  },
  {
   "cell_type": "code",
   "execution_count": 4,
   "id": "e7e192f2-4ecd-467b-a69b-3bee0f02ad8e",
   "metadata": {},
   "outputs": [],
   "source": [
    "def add_numbers(x,y):\n",
    "     return x+y"
   ]
  },
  {
   "cell_type": "markdown",
   "id": "3730738e-a9f0-4fc9-80a4-46d7130b10db",
   "metadata": {},
   "source": [
    "An if-else block in javascript:"
   ]
  },
  {
   "cell_type": "code",
   "execution_count": null,
   "id": "b3bb9ac6-83cc-49ec-ac50-b5a285b929e2",
   "metadata": {},
   "outputs": [],
   "source": [
    "let langauge = \"Python\"\n",
    "\n",
    "if (langauge === \"Python\"){\n",
    "     console.log(\"Let the fun begin\");\n",
    "}else{\n",
    "    console.log(\"You sure?\");\n",
    "}"
   ]
  },
  {
   "cell_type": "code",
   "execution_count": null,
   "id": "6c7331ba-0096-4526-9b7f-d67dd5f10116",
   "metadata": {},
   "outputs": [],
   "source": [
    "In Python"
   ]
  },
  {
   "cell_type": "code",
   "execution_count": 11,
   "id": "812fd17b-f4f7-4d2d-8b85-d8b7ba2ba0ca",
   "metadata": {},
   "outputs": [
    {
     "name": "stdout",
     "output_type": "stream",
     "text": [
      "Let the fun begin!\n"
     ]
    }
   ],
   "source": [
    "language = \"Python\"\n",
    "\n",
    "if language == \"Python\":\n",
    "    print(\"Let the fun begin!\")\n",
    "    if language.endswith('3'):\n",
    "          print(\"Pyt3\")\n",
    "else:\n",
    "    print(\"You sure?\")"
   ]
  },
  {
   "cell_type": "markdown",
   "id": "b6735489-58fb-4321-a31b-12dd46a5b61f",
   "metadata": {},
   "source": [
    "Commments"
   ]
  },
  {
   "cell_type": "markdown",
   "id": "fce9f2d5-6180-44aa-816f-5b37c35ca02c",
   "metadata": {},
   "source": [
    "# this ia a comment"
   ]
  },
  {
   "cell_type": "code",
   "execution_count": 12,
   "id": "5086cadc-ec0e-45f1-9b93-1f77b8aed13c",
   "metadata": {},
   "outputs": [],
   "source": [
    "# it does't produce any output"
   ]
  },
  {
   "cell_type": "code",
   "execution_count": 13,
   "id": "6de4e3d6-4053-4196-863a-aa02b3e7b2e1",
   "metadata": {},
   "outputs": [
    {
     "name": "stdout",
     "output_type": "stream",
     "text": [
      "Hello World\n"
     ]
    }
   ],
   "source": [
    "#can be above...\n",
    "print(\"Hello World\")"
   ]
  },
  {
   "cell_type": "markdown",
   "id": "0805ff88-4350-4d61-816b-771b3466de3c",
   "metadata": {},
   "source": [
    "Varribles"
   ]
  },
  {
   "cell_type": "code",
   "execution_count": 14,
   "id": "9935cb0d-da51-4722-a346-1ddfaba78670",
   "metadata": {},
   "outputs": [
    {
     "name": "stdout",
     "output_type": "stream",
     "text": [
      "Marry\n"
     ]
    }
   ],
   "source": [
    "name = \"Marry\"\n",
    "print(name)"
   ]
  },
  {
   "cell_type": "code",
   "execution_count": 15,
   "id": "38e3ff7c-23e5-4264-8a84-ef23c9c74619",
   "metadata": {},
   "outputs": [
    {
     "name": "stdout",
     "output_type": "stream",
     "text": [
      "30\n"
     ]
    }
   ],
   "source": [
    "age = 30\n",
    "print (age)"
   ]
  },
  {
   "cell_type": "code",
   "execution_count": 16,
   "id": "9c84101d-49b6-4b75-8727-2c315741b08b",
   "metadata": {},
   "outputs": [
    {
     "name": "stdout",
     "output_type": "stream",
     "text": [
      "Marry is 30 years old\n"
     ]
    }
   ],
   "source": [
    "print(name, \"is\", age, \"years old\")"
   ]
  },
  {
   "cell_type": "code",
   "execution_count": 17,
   "id": "3ac4955c-a1e5-41e8-8ef0-178b6137d994",
   "metadata": {},
   "outputs": [],
   "source": [
    "age = 30"
   ]
  },
  {
   "cell_type": "code",
   "execution_count": 18,
   "id": "80e428e9-7ae9-4615-8d98-c2146ca3baf4",
   "metadata": {},
   "outputs": [
    {
     "data": {
      "text/plain": [
       "30"
      ]
     },
     "execution_count": 18,
     "metadata": {},
     "output_type": "execute_result"
    }
   ],
   "source": [
    "age"
   ]
  },
  {
   "cell_type": "code",
   "execution_count": 19,
   "id": "373b87ed-7451-4969-910c-79fdcd65d29f",
   "metadata": {},
   "outputs": [
    {
     "data": {
      "text/plain": [
       "int"
      ]
     },
     "execution_count": 19,
     "metadata": {},
     "output_type": "execute_result"
    }
   ],
   "source": [
    "type(age)"
   ]
  },
  {
   "cell_type": "markdown",
   "id": "1e72fc29-d0fd-4c4c-addd-c8ba2d2cc680",
   "metadata": {},
   "source": [
    "floats type float:"
   ]
  },
  {
   "cell_type": "code",
   "execution_count": 21,
   "id": "abea8bd5-1ea1-4e69-b1ec-ff985cb8605a",
   "metadata": {},
   "outputs": [],
   "source": [
    "# a float\n",
    "price = 2.50"
   ]
  },
  {
   "cell_type": "code",
   "execution_count": 22,
   "id": "2b9518cd-0fec-42ba-bc8c-1ab580c1c083",
   "metadata": {},
   "outputs": [
    {
     "data": {
      "text/plain": [
       "2.5"
      ]
     },
     "execution_count": 22,
     "metadata": {},
     "output_type": "execute_result"
    }
   ],
   "source": [
    "price"
   ]
  },
  {
   "cell_type": "code",
   "execution_count": 24,
   "id": "3cbd5f4f-d211-430b-b2cf-02bea7c2b419",
   "metadata": {},
   "outputs": [
    {
     "data": {
      "text/plain": [
       "float"
      ]
     },
     "execution_count": 24,
     "metadata": {},
     "output_type": "execute_result"
    }
   ],
   "source": [
    "type(price)"
   ]
  },
  {
   "cell_type": "code",
   "execution_count": null,
   "id": "6d2e30e3-4af7-484a-bc05-13ee25253ff0",
   "metadata": {},
   "outputs": [],
   "source": [
    "Remeber that floats sometimes exhibit \"extraneous\" behaviour\""
   ]
  },
  {
   "cell_type": "code",
   "execution_count": 25,
   "id": "5db988c5-5b08-4f8d-b176-06e5fc4d2112",
   "metadata": {},
   "outputs": [
    {
     "data": {
      "text/plain": [
       "0.30000000000000004"
      ]
     },
     "execution_count": 25,
     "metadata": {},
     "output_type": "execute_result"
    }
   ],
   "source": [
    "0.1 * 3"
   ]
  },
  {
   "cell_type": "markdown",
   "id": "8a751ee6-6172-4f13-b5ec-d0b44e63d9cd",
   "metadata": {},
   "source": [
    "if you need decimal fixed point precision, you can use the decimal module"
   ]
  },
  {
   "cell_type": "code",
   "execution_count": 27,
   "id": "f202c60a-3b75-4118-b531-5930520e4d3d",
   "metadata": {},
   "outputs": [],
   "source": [
    "from decimal import Decimal"
   ]
  },
  {
   "cell_type": "code",
   "execution_count": 28,
   "id": "e3d58144-f6ec-488c-8554-53450ebd2352",
   "metadata": {},
   "outputs": [
    {
     "data": {
      "text/plain": [
       "Decimal('0.3000000000000000166533453694')"
      ]
     },
     "execution_count": 28,
     "metadata": {},
     "output_type": "execute_result"
    }
   ],
   "source": [
    "Decimal(0.1)*3"
   ]
  },
  {
   "cell_type": "markdown",
   "id": "e4b33adf-abc0-4d82-be2d-a7f33021e532",
   "metadata": {},
   "source": [
    "String Type str\n",
    "\n",
    "strings are used to store text. Technally, they,re \"immutable sequences of unicode code points\". Which means that python supports Unicode:"
   ]
  },
  {
   "cell_type": "code",
   "execution_count": 30,
   "id": "88cc9af0-bcef-4fc7-9407-02adceb965e5",
   "metadata": {},
   "outputs": [
    {
     "name": "stdout",
     "output_type": "stream",
     "text": [
      "Hello unicode 👏\n"
     ]
    }
   ],
   "source": [
    "# create with double codes \n",
    "print(\"Hello unicode 👏\")"
   ]
  },
  {
   "cell_type": "code",
   "execution_count": 31,
   "id": "23cf97b1-c147-4291-aa43-50c7550b67ec",
   "metadata": {},
   "outputs": [
    {
     "name": "stdout",
     "output_type": "stream",
     "text": [
      "Omlette Du Fromage ⭐\n"
     ]
    }
   ],
   "source": [
    "#single quotes:\n",
    "print ('Omlette Du Fromage ⭐')"
   ]
  },
  {
   "cell_type": "code",
   "execution_count": 32,
   "id": "191ebe68-d15a-4270-a517-48b738dfc111",
   "metadata": {},
   "outputs": [
    {
     "data": {
      "text/plain": [
       "str"
      ]
     },
     "execution_count": 32,
     "metadata": {},
     "output_type": "execute_result"
    }
   ],
   "source": [
    "type (\"Hello World\")"
   ]
  },
  {
   "cell_type": "code",
   "execution_count": 33,
   "id": "180460a0-6e66-4a36-b66c-26b17fac8034",
   "metadata": {},
   "outputs": [
    {
     "data": {
      "text/plain": [
       "5"
      ]
     },
     "execution_count": 33,
     "metadata": {},
     "output_type": "execute_result"
    }
   ],
   "source": [
    "len(\"Hello\")"
   ]
  },
  {
   "cell_type": "markdown",
   "id": "ba793eeb-0c65-463b-b763-2538d801d420",
   "metadata": {},
   "source": [
    "You can use double or single quotes, it's the same. We also have \"multi-line\" strings, that are created with a pair of 3 quotes(simple or double, either works ):"
   ]
  },
  {
   "cell_type": "code",
   "execution_count": 35,
   "id": "369bd80c-c167-4451-8b7f-bc6973c2ebf3",
   "metadata": {},
   "outputs": [
    {
     "name": "stdout",
     "output_type": "stream",
     "text": [
      "\n",
      "Me: what's the best thing about Switezerland?\n",
      "Friend: I don\"t know, what?\n",
      "Me: I don't know, but the flag is a big plus.\n",
      "F: 😞\n",
      "\n"
     ]
    }
   ],
   "source": [
    "joke = \"\"\"\n",
    "Me: what's the best thing about Switezerland?\n",
    "Friend: I don\"t know, what?\n",
    "Me: I don't know, but the flag is a big plus.\n",
    "F: 😞\n",
    "\"\"\"\n",
    "\n",
    "print(joke)"
   ]
  },
  {
   "cell_type": "code",
   "execution_count": null,
   "id": "fb3f00e3-f689-4f95-8705-79105ed15699",
   "metadata": {},
   "outputs": [],
   "source": [
    "Booleans type bool"
   ]
  },
  {
   "cell_type": "markdown",
   "id": "4f1de2c7-06cb-4739-939a-a51365e9ac27",
   "metadata": {},
   "source": [
    "Python booleans are as simple as they get: True and False , caitalized."
   ]
  },
  {
   "cell_type": "code",
   "execution_count": 36,
   "id": "114f8216-b570-4090-a042-bde1705d79b4",
   "metadata": {},
   "outputs": [
    {
     "data": {
      "text/plain": [
       "True"
      ]
     },
     "execution_count": 36,
     "metadata": {},
     "output_type": "execute_result"
    }
   ],
   "source": [
    "True"
   ]
  },
  {
   "cell_type": "code",
   "execution_count": 37,
   "id": "7659aad2-cb04-4ff1-87d8-52c725141c16",
   "metadata": {},
   "outputs": [
    {
     "data": {
      "text/plain": [
       "bool"
      ]
     },
     "execution_count": 37,
     "metadata": {},
     "output_type": "execute_result"
    }
   ],
   "source": [
    "type(True)"
   ]
  },
  {
   "cell_type": "code",
   "execution_count": 38,
   "id": "242403e7-7a52-4c3c-9cfa-2a97f51083d2",
   "metadata": {},
   "outputs": [
    {
     "data": {
      "text/plain": [
       "bool"
      ]
     },
     "execution_count": 38,
     "metadata": {},
     "output_type": "execute_result"
    }
   ],
   "source": [
    "type(False)"
   ]
  },
  {
   "cell_type": "markdown",
   "id": "e6655edd-a648-4b48-a638-d143594048f2",
   "metadata": {},
   "source": [
    "None, type NoneType\n",
    "\n",
    "As other langauge have null,in Python we have None , which pretty much reperseants the absence of value:"
   ]
  },
  {
   "cell_type": "code",
   "execution_count": 39,
   "id": "9ab626a8-9874-463f-87bb-201a360fa152",
   "metadata": {},
   "outputs": [],
   "source": [
    "x = None "
   ]
  },
  {
   "cell_type": "code",
   "execution_count": 40,
   "id": "d0e59d41-d7d6-466a-9b40-0bc60d65bc1d",
   "metadata": {},
   "outputs": [],
   "source": [
    "x"
   ]
  },
  {
   "cell_type": "code",
   "execution_count": 41,
   "id": "7db54d6f-017b-4e11-b787-b6308f774fcc",
   "metadata": {},
   "outputs": [
    {
     "name": "stdout",
     "output_type": "stream",
     "text": [
      "None\n"
     ]
    }
   ],
   "source": [
    "print(x)"
   ]
  },
  {
   "cell_type": "code",
   "execution_count": 42,
   "id": "5956406f-ad72-48d1-be9e-aa35c95a2ef0",
   "metadata": {},
   "outputs": [
    {
     "data": {
      "text/plain": [
       "NoneType"
      ]
     },
     "execution_count": 42,
     "metadata": {},
     "output_type": "execute_result"
    }
   ],
   "source": [
    "type(None)"
   ]
  },
  {
   "cell_type": "code",
   "execution_count": null,
   "id": "a973c6da-88df-42ef-9650-44dd518e725d",
   "metadata": {},
   "outputs": [],
   "source": [
    "int, float, str and bool objects and functions "
   ]
  },
  {
   "cell_type": "code",
   "execution_count": 44,
   "id": "868de845-33a1-4781-a8f4-d5f9a57bb8f4",
   "metadata": {},
   "outputs": [],
   "source": [
    "age_as_string = \"23\""
   ]
  },
  {
   "cell_type": "code",
   "execution_count": 45,
   "id": "c5ad3b5f-e501-49a2-b5a6-76c0764bfeea",
   "metadata": {},
   "outputs": [
    {
     "data": {
      "text/plain": [
       "str"
      ]
     },
     "execution_count": 45,
     "metadata": {},
     "output_type": "execute_result"
    }
   ],
   "source": [
    "type(age_as_string)"
   ]
  },
  {
   "cell_type": "code",
   "execution_count": 46,
   "id": "64acaaa9-f547-4c35-af70-8de1b18428e6",
   "metadata": {},
   "outputs": [
    {
     "data": {
      "text/plain": [
       "23"
      ]
     },
     "execution_count": 46,
     "metadata": {},
     "output_type": "execute_result"
    }
   ],
   "source": [
    "int(age_as_string)"
   ]
  },
  {
   "cell_type": "code",
   "execution_count": 49,
   "id": "589d00f2-b655-4003-8f74-d9e3fe76f9b8",
   "metadata": {},
   "outputs": [],
   "source": [
    "age = int(age_as_string)\n"
   ]
  },
  {
   "cell_type": "code",
   "execution_count": 50,
   "id": "a4dcdf85-453c-4d82-adbd-60697af3e1d0",
   "metadata": {},
   "outputs": [
    {
     "data": {
      "text/plain": [
       "int"
      ]
     },
     "execution_count": 50,
     "metadata": {},
     "output_type": "execute_result"
    }
   ],
   "source": [
    "type(age)"
   ]
  },
  {
   "cell_type": "markdown",
   "id": "06a14777-38ad-443d-9977-7b7b640f0505",
   "metadata": {},
   "source": [
    "Their use as objects is mainly associated with their type:"
   ]
  },
  {
   "cell_type": "code",
   "execution_count": 52,
   "id": "f7569f04-8943-4e92-be6a-d3189524217b",
   "metadata": {},
   "outputs": [
    {
     "data": {
      "text/plain": [
       "True"
      ]
     },
     "execution_count": 52,
     "metadata": {},
     "output_type": "execute_result"
    }
   ],
   "source": [
    "type(13) == int"
   ]
  },
  {
   "cell_type": "markdown",
   "id": "c8d5a673-e26c-469f-97c9-f277ebc43ad4",
   "metadata": {},
   "source": [
    "Functions\n",
    "we have seen couple of function define already but let's dig a little bit deeper.Function in python are very intuitive. "
   ]
  },
  {
   "cell_type": "code",
   "execution_count": 56,
   "id": "8ef4b8fe-7e7e-485b-b229-b6d6cf4bdee7",
   "metadata": {},
   "outputs": [],
   "source": [
    "def hello():\n",
    "    return\"Hello World\""
   ]
  },
  {
   "cell_type": "markdown",
   "id": "dbb1f2ec-a5de-4b43-aa72-9e5943b27076",
   "metadata": {},
   "source": [
    "The def keyword indicate the definition of a function , followed by name and a list of arguments( which this function doesn't recieve). The return statement is used to break the flow of the function and return a value back to the caller: "
   ]
  },
  {
   "cell_type": "code",
   "execution_count": 57,
   "id": "c0fcc601-ae14-4555-bc06-5810392d6658",
   "metadata": {},
   "outputs": [],
   "source": [
    "result = hello()"
   ]
  },
  {
   "cell_type": "raw",
   "id": "309e8e75-6257-407c-be37-78ebf43711b2",
   "metadata": {},
   "source": [
    "result"
   ]
  },
  {
   "cell_type": "code",
   "execution_count": null,
   "id": "d8f12f30-9a1f-4526-9ee4-03836c40d28d",
   "metadata": {},
   "outputs": [],
   "source": [
    "if a function doen't explicitly include a return statement Python will return None by default:"
   ]
  },
  {
   "cell_type": "code",
   "execution_count": 58,
   "id": "2229c311-222c-4619-8170-5f73f800df8d",
   "metadata": {},
   "outputs": [],
   "source": [
    "def empty():\n",
    "    x=3"
   ]
  },
  {
   "cell_type": "code",
   "execution_count": null,
   "id": "ef619d77-f6a1-4c3c-90be-4808ecc2f32f",
   "metadata": {},
   "outputs": [],
   "source": [
    "result = empty()"
   ]
  },
  {
   "cell_type": "code",
   "execution_count": 59,
   "id": "2eb152a0-39ad-489f-affb-3d330d10ee20",
   "metadata": {},
   "outputs": [
    {
     "name": "stdout",
     "output_type": "stream",
     "text": [
      "Hello World\n"
     ]
    }
   ],
   "source": [
    "print(result)"
   ]
  },
  {
   "cell_type": "code",
   "execution_count": null,
   "id": "d23c9791-0462-4f65-a9c3-9962d0ca891b",
   "metadata": {},
   "outputs": [],
   "source": [
    "Recieving parameters \n",
    "\n",
    "There's a lot  can be sone with python parameters; including default and named parameters, and even varibale/dynamic ones. "
   ]
  },
  {
   "cell_type": "code",
   "execution_count": 66,
   "id": "8c07375a-6633-4ac2-83a3-32c35f8c5063",
   "metadata": {},
   "outputs": [],
   "source": [
    "def add(x,y):\n",
    "    return x + y"
   ]
  },
  {
   "cell_type": "code",
   "execution_count": 67,
   "id": "26e88f96-5cb2-4624-acc0-3d4eb3fb79e0",
   "metadata": {},
   "outputs": [
    {
     "data": {
      "text/plain": [
       "5"
      ]
     },
     "execution_count": 67,
     "metadata": {},
     "output_type": "execute_result"
    }
   ],
   "source": [
    "add(2,3)"
   ]
  },
  {
   "cell_type": "markdown",
   "id": "1d3845af-5bce-4635-a3d0-bd8d9a3389ee",
   "metadata": {},
   "source": [
    "We csn define functions that accept variable number of arguments, using the star args *:"
   ]
  },
  {
   "cell_type": "code",
   "execution_count": 70,
   "id": "0380997a-b512-40c4-bf23-e930b037f500",
   "metadata": {},
   "outputs": [],
   "source": [
    "def add (*args):\n",
    "    return sum(args)"
   ]
  },
  {
   "cell_type": "code",
   "execution_count": 71,
   "id": "f6036374-fe47-4baf-9b8e-f8cdd90c1890",
   "metadata": {},
   "outputs": [
    {
     "data": {
      "text/plain": [
       "3"
      ]
     },
     "execution_count": 71,
     "metadata": {},
     "output_type": "execute_result"
    }
   ],
   "source": [
    "add(1, 1, 1)"
   ]
  },
  {
   "cell_type": "code",
   "execution_count": 72,
   "id": "0fbd738f-b5ca-466d-909d-a7a74691086e",
   "metadata": {},
   "outputs": [
    {
     "data": {
      "text/plain": [
       "1"
      ]
     },
     "execution_count": 72,
     "metadata": {},
     "output_type": "execute_result"
    }
   ],
   "source": [
    "add(1)"
   ]
  },
  {
   "cell_type": "code",
   "execution_count": null,
   "id": "028a6a76-00b4-4980-b2ef-34d684b7180e",
   "metadata": {},
   "outputs": [],
   "source": [
    "Operators\n",
    "\n",
    "both Airthematic and Boolean operator are available"
   ]
  },
  {
   "cell_type": "code",
   "execution_count": 73,
   "id": "88edcb12-1138-4d7b-867d-3fe689b1ccb0",
   "metadata": {},
   "outputs": [
    {
     "data": {
      "text/plain": [
       "6"
      ]
     },
     "execution_count": 73,
     "metadata": {},
     "output_type": "execute_result"
    }
   ],
   "source": [
    "3+3"
   ]
  },
  {
   "cell_type": "code",
   "execution_count": 74,
   "id": "be3da294-af8d-452a-b680-688831e1595d",
   "metadata": {},
   "outputs": [
    {
     "data": {
      "text/plain": [
       "4"
      ]
     },
     "execution_count": 74,
     "metadata": {},
     "output_type": "execute_result"
    }
   ],
   "source": [
    "11 % 7"
   ]
  },
  {
   "cell_type": "code",
   "execution_count": 75,
   "id": "d76a7930-5285-41e9-bed6-2c02048ae87a",
   "metadata": {},
   "outputs": [
    {
     "data": {
      "text/plain": [
       "16"
      ]
     },
     "execution_count": 75,
     "metadata": {},
     "output_type": "execute_result"
    }
   ],
   "source": [
    "2 ** 4"
   ]
  },
  {
   "cell_type": "code",
   "execution_count": 76,
   "id": "3265aa4e-ae14-45c9-a1c5-c44457248bd3",
   "metadata": {},
   "outputs": [
    {
     "data": {
      "text/plain": [
       "23"
      ]
     },
     "execution_count": 76,
     "metadata": {},
     "output_type": "execute_result"
    }
   ],
   "source": [
    "3 + 4 * 5"
   ]
  },
  {
   "cell_type": "code",
   "execution_count": 77,
   "id": "c607da51-8f92-496a-af96-88d5f0f0a01a",
   "metadata": {},
   "outputs": [
    {
     "data": {
      "text/plain": [
       "35"
      ]
     },
     "execution_count": 77,
     "metadata": {},
     "output_type": "execute_result"
    }
   ],
   "source": [
    "3 + 4 * 2**3"
   ]
  },
  {
   "cell_type": "code",
   "execution_count": null,
   "id": "aa55b22e-2ef6-4497-9445-061504b7475c",
   "metadata": {},
   "outputs": [],
   "source": [
    "Boolean Operators"
   ]
  },
  {
   "cell_type": "code",
   "execution_count": 78,
   "id": "1b1dcd1a-3f8d-4c0a-9c6e-0fe07982d305",
   "metadata": {},
   "outputs": [
    {
     "data": {
      "text/plain": [
       "True"
      ]
     },
     "execution_count": 78,
     "metadata": {},
     "output_type": "execute_result"
    }
   ],
   "source": [
    "7 > 3"
   ]
  },
  {
   "cell_type": "code",
   "execution_count": 80,
   "id": "98aea25a-4bb5-4e1b-aef4-411b1d46cdf8",
   "metadata": {},
   "outputs": [
    {
     "data": {
      "text/plain": [
       "True"
      ]
     },
     "execution_count": 80,
     "metadata": {},
     "output_type": "execute_result"
    }
   ],
   "source": [
    "8 >= 8"
   ]
  },
  {
   "cell_type": "code",
   "execution_count": 81,
   "id": "3bd73b5d-0c4b-4f17-8c34-2a83335a0bb1",
   "metadata": {},
   "outputs": [
    {
     "data": {
      "text/plain": [
       "True"
      ]
     },
     "execution_count": 81,
     "metadata": {},
     "output_type": "execute_result"
    }
   ],
   "source": [
    "True and True"
   ]
  },
  {
   "cell_type": "code",
   "execution_count": 82,
   "id": "92cc4abf-b5d2-44de-8ed6-db2bdb657112",
   "metadata": {},
   "outputs": [
    {
     "data": {
      "text/plain": [
       "True"
      ]
     },
     "execution_count": 82,
     "metadata": {},
     "output_type": "execute_result"
    }
   ],
   "source": [
    "not False"
   ]
  },
  {
   "cell_type": "code",
   "execution_count": 83,
   "id": "7f2d9465-5804-40a5-8cd1-581953747876",
   "metadata": {},
   "outputs": [
    {
     "data": {
      "text/plain": [
       "True"
      ]
     },
     "execution_count": 83,
     "metadata": {},
     "output_type": "execute_result"
    }
   ],
   "source": [
    "False or True"
   ]
  },
  {
   "cell_type": "markdown",
   "id": "8f37f454-7683-4c78-b38d-9a31af33a9e1",
   "metadata": {},
   "source": [
    "Control Flow\n",
    "\n",
    "python supports the most common control flow blocks. keep in mind they are defined with identation"
   ]
  },
  {
   "cell_type": "code",
   "execution_count": null,
   "id": "9a3d9f6f-379d-432d-b541-dc26cff9647a",
   "metadata": {},
   "outputs": [],
   "source": [
    "If/else/elif statements"
   ]
  },
  {
   "cell_type": "code",
   "execution_count": 86,
   "id": "2e608f51-6297-4104-adc1-e83ef7963f6e",
   "metadata": {},
   "outputs": [],
   "source": [
    "days_subscribed = 28"
   ]
  },
  {
   "cell_type": "code",
   "execution_count": 87,
   "id": "ebfdf6ed-9286-427f-b4d7-64fef55398d0",
   "metadata": {},
   "outputs": [
    {
     "name": "stdout",
     "output_type": "stream",
     "text": [
      "Halfway there\n"
     ]
    }
   ],
   "source": [
    "if days_subscribed >= 30:\n",
    "    print(\"Loyal customer\")\n",
    "elif days_subscribed >= 15:\n",
    "    print(\"Halfway there\")\n",
    "elif days_subscribed >= 1:\n",
    "    print(\"Building confidence\")\n",
    "else:\n",
    "    print(\"Too early\")"
   ]
  },
  {
   "cell_type": "code",
   "execution_count": null,
   "id": "5b87f617-c224-4de2-8548-5b3e178b808c",
   "metadata": {},
   "outputs": [],
   "source": [
    "For Loops are different than other langauge "
   ]
  },
  {
   "cell_type": "code",
   "execution_count": 88,
   "id": "f1346b8c-b1a7-4636-8117-d52090f5fb81",
   "metadata": {},
   "outputs": [],
   "source": [
    "names = ['Monica', 'Ross', 'Chandler', 'Joey', 'Rachel']"
   ]
  },
  {
   "cell_type": "code",
   "execution_count": null,
   "id": "400db023-6715-43cd-882a-d8e712489c2e",
   "metadata": {},
   "outputs": [],
   "source": [
    "for name in names:\n",
    "    print (name)"
   ]
  },
  {
   "cell_type": "code",
   "execution_count": null,
   "id": "ffaae155-a7f7-4169-a59a-7c7b5b35aa5f",
   "metadata": {},
   "outputs": [],
   "source": [
    "While loops \n",
    "\n",
    "whole loops are seldom used uin python "
   ]
  },
  {
   "cell_type": "code",
   "execution_count": 90,
   "id": "affc358d-6075-4ce4-b29d-58d1834a7421",
   "metadata": {},
   "outputs": [],
   "source": [
    "count = 0"
   ]
  },
  {
   "cell_type": "code",
   "execution_count": null,
   "id": "17664d80-8afd-4d06-806a-4360f566ef0c",
   "metadata": {},
   "outputs": [],
   "source": [
    "while count < 3:\n",
    "    print(\"Counting...\")\n",
    "    count += 1"
   ]
  },
  {
   "cell_type": "code",
   "execution_count": null,
   "id": "4a05a7ed-8ed2-4cbc-af8d-751ab3207e05",
   "metadata": {},
   "outputs": [],
   "source": [
    "Collections \n",
    "\n",
    "list  Mutable     ordered\n",
    "Tuples Immutable   ordered\n",
    "Dictionaries  mutable unordered\n",
    "Sets         mutable    unordered"
   ]
  },
  {
   "cell_type": "code",
   "execution_count": null,
   "id": "57ca6202-6068-4217-b1da-67fd87b6fc56",
   "metadata": {},
   "outputs": [],
   "source": [
    "List"
   ]
  },
  {
   "cell_type": "code",
   "execution_count": null,
   "id": "2ea39af9-1871-4a1f-a755-8298b8a257d7",
   "metadata": {},
   "outputs": [],
   "source": [
    "l = [3, \"Hello World', True]"
   ]
  },
  {
   "cell_type": "code",
   "execution_count": null,
   "id": "df517267-d155-4c78-9f26-92365d969bb1",
   "metadata": {},
   "outputs": [],
   "source": [
    "len(l)"
   ]
  },
  {
   "cell_type": "code",
   "execution_count": null,
   "id": "7b70688f-4158-4e50-a6c5-f37e66db0906",
   "metadata": {},
   "outputs": [],
   "source": [
    "l(1)"
   ]
  }
 ],
 "metadata": {
  "kernelspec": {
   "display_name": "Python 3 (ipykernel)",
   "language": "python",
   "name": "python3"
  },
  "language_info": {
   "codemirror_mode": {
    "name": "ipython",
    "version": 3
   },
   "file_extension": ".py",
   "mimetype": "text/x-python",
   "name": "python",
   "nbconvert_exporter": "python",
   "pygments_lexer": "ipython3",
   "version": "3.12.0"
  }
 },
 "nbformat": 4,
 "nbformat_minor": 5
}
